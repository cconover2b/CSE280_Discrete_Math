{
  "cells": [
    {
      "cell_type": "markdown",
      "metadata": {
        "id": "view-in-github",
        "colab_type": "text"
      },
      "source": [
        "<a href=\"https://colab.research.google.com/github/cconover2b/CSE280_Discrete_Math/blob/main/Copy_of_cse280_homework_09.ipynb\" target=\"_parent\"><img src=\"https://colab.research.google.com/assets/colab-badge.svg\" alt=\"Open In Colab\"/></a>"
      ]
    },
    {
      "cell_type": "markdown",
      "metadata": {
        "id": "_Mr3AvSgSswx"
      },
      "source": [
        "# Homework 9 - Integers"
      ]
    },
    {
      "cell_type": "markdown",
      "metadata": {
        "id": "w1t0weuGbbhA"
      },
      "source": [
        "**Instructions:** Complete the exercises below.\n",
        "\n",
        "1. Make a copy of this Colab Notebook using **`File -> Save a copy in Drive`**.\n",
        "\n",
        "2. Answer the exercise questions below. Type your answers to each question by double-clicking on **`Your Answer`** and typing your response.\n",
        "\n",
        "    Note that you can use any combination of plain text, Markdown, or LaTeX. As a last resort, you can simply take a picture of your handwritten work and upload it to an answer cell below.\n",
        "\n",
        "3. To submit your work, turn in the URL for your Colab notebook."
      ]
    },
    {
      "cell_type": "markdown",
      "metadata": {
        "id": "bEsUKV6DbbhB"
      },
      "source": [
        "**Note**:\n",
        "Sample solutions are provided in order to help you **learn**. The purpose of these exercises is not to simply turn in the answers, but to take the time and effort to learn and understand the material. You are encouraged to work the problems first, then when you are satisfied that you have the correct answer, look at the sample solution and compare it with yours."
      ]
    },
    {
      "cell_type": "markdown",
      "metadata": {
        "id": "T9qXptNOMDmw"
      },
      "source": [
        "As you complete the problems below, you may use Python whenever you can think of a way it could help you answer the question."
      ]
    },
    {
      "cell_type": "markdown",
      "metadata": {
        "id": "2DBJLG4oMDmw"
      },
      "source": [
        "### Exercise 9.1"
      ]
    },
    {
      "cell_type": "markdown",
      "metadata": {
        "id": "qGfPiSW1MDmw"
      },
      "source": [
        "How is integer division performed in Python? Python has built-in operators to perform integer division and modular division. The `//` operator performs integer division and the `%` operator performs modular division.\n",
        "\n",
        "Write a Python lambda function that takes two numbers $a$ and $b$, then use Python integer division and modular division to return a quotient and remainder as a tuple `(q,r)`.\n",
        "\n",
        "For example, if $a=9$ and $b=4$, the result should be `(2,1)`.\n"
      ]
    },
    {
      "cell_type": "markdown",
      "metadata": {
        "id": "nURuMkBYMDmw"
      },
      "source": [
        "#### Your Answer:\n",
        "(Add your code where it says `# Your code here`)"
      ]
    },
    {
      "cell_type": "code",
      "execution_count": null,
      "metadata": {
        "id": "frj1JpLFMDmw"
      },
      "outputs": [],
      "source": [
        "# Define a function to perform integer division,\n",
        "# returning an integer and a remainder.\n",
        "\n",
        "integer_division = lambda a, b: # Your code here\n",
        "\n",
        "result = integer_division(9,4)\n",
        "print(f'{result[0]}r{result[1]}') # should output 2r1"
      ]
    },
    {
      "cell_type": "markdown",
      "metadata": {
        "id": "W-QStVTXMDmw"
      },
      "source": [
        "### Exercise 9.2"
      ]
    },
    {
      "cell_type": "markdown",
      "metadata": {
        "id": "snoOYLEbMDmx"
      },
      "source": [
        "Does $d$ evenly divide $n$? Determine whether each of the following is True or False. If False, give the quotient and remainder. (You are encouraged to write some Python code to help)\n",
        "\n",
        "1. $3 | 12$\n",
        "2. $3 | 13$\n",
        "3. $14 | 58$\n",
        "4. $73 | 1752$\n",
        "5. $73 | 1753$"
      ]
    },
    {
      "cell_type": "markdown",
      "metadata": {
        "id": "rqodXjeoMDmx"
      },
      "source": [
        "#### Your Answer:"
      ]
    },
    {
      "cell_type": "markdown",
      "metadata": {
        "id": "dExpO7wnMDmx"
      },
      "source": [
        "### Exercise 9.3"
      ]
    },
    {
      "cell_type": "markdown",
      "metadata": {
        "id": "F8xAb2SXMDmx"
      },
      "source": [
        "List all the positive divisors of each of the following. You may choose to compute them by hand or you may use Python.\n",
        "\n",
        "1. 36\n",
        "2. 24\n",
        "3. 56\n",
        "4. 100\n",
        "5. 116"
      ]
    },
    {
      "cell_type": "markdown",
      "metadata": {
        "id": "fEdC_S0EMDmx"
      },
      "source": [
        "#### Your Answer:"
      ]
    },
    {
      "cell_type": "markdown",
      "metadata": {
        "id": "8OrRrYLOMDmx"
      },
      "source": [
        "### Exercise 9.4"
      ]
    },
    {
      "cell_type": "markdown",
      "metadata": {
        "id": "fOaywnQOMDmx"
      },
      "source": [
        "Use the Division Algorithm to help you find the value of $n$ for each of the below. The division algorithm says $n=dq+r$.\n",
        "\n",
        "1. n div 11 = 4, n mod  11 = 3\n",
        "2. n div 5 = 8, n mod 5 = 1\n",
        "3. n div 7 = 9, n mod 7 = 0\n",
        "4. n div 15 = 4, n mod 15 = 7\n",
        "5. n div 13 = -2, n mod 13 = 3\n"
      ]
    },
    {
      "cell_type": "markdown",
      "metadata": {
        "id": "pG0TQJ56MDmx"
      },
      "source": [
        "#### Your Answer:"
      ]
    },
    {
      "cell_type": "markdown",
      "metadata": {
        "id": "b-yGZpEtMDmx"
      },
      "source": [
        "### Exercise 9.5"
      ]
    },
    {
      "cell_type": "markdown",
      "metadata": {
        "id": "K-zHoTn7MDmx"
      },
      "source": [
        "#### Division Algorithm\n",
        "\n",
        "The procedural version of the Division Algorithm is presented as pseudocode in 9.1.3 and reproduced here:\n",
        "\n",
        "##### Definition 9.1.3: Procedural version of the Division Algorithm.\n",
        "\n",
        "Input: Integers n and d > 0.\n",
        "\n",
        "Output: q = n div d, and r = n mod d.\n",
        "\n",
        "```\n",
        "Case 1: n ≥ 0.         Case 2: n < 0.\n",
        "--------------         --------------\n",
        "q := 0                 q := 0\n",
        "r := n                 r := n\n",
        "While ( r ≥ d )        While ( r < 0 )\n",
        "  q := q + 1             q := q - 1\n",
        "  r := r - d             r := r + d\n",
        "End-While              End-While\n",
        "```\n",
        "\n",
        "\n",
        "#### Your task is to complete the following.\n",
        "1. By hand, trace through the procedural version of the Division Algorithm using the following inputs to make sure you fully understand how the algorithm works.\n",
        "\n",
        "   $n=9$, $d=4$\n",
        "   \n",
        "   $n=-9$, $d=4$\n",
        "\n",
        "3. Implement the division algorithm shown above as a Python function that returns a tuple (q, r).\n",
        "\n",
        "4. Test your function on several numbers.\n"
      ]
    },
    {
      "cell_type": "markdown",
      "metadata": {
        "id": "0WqM3qQLMDmx"
      },
      "source": [
        "#### Your Answer:"
      ]
    },
    {
      "cell_type": "code",
      "execution_count": null,
      "metadata": {
        "id": "Kuz1i7DcMDmx"
      },
      "outputs": [],
      "source": [
        "def division(n, d):\n",
        "    # Your code here\n",
        "\n",
        "print(division(9,4)) # should be (2, 1)\n",
        "print(division(-9,4)) # should be (-3, 3)"
      ]
    },
    {
      "cell_type": "markdown",
      "metadata": {
        "id": "1EguZ7iiMDmx"
      },
      "source": [
        "### Exercise 9.6"
      ]
    },
    {
      "cell_type": "markdown",
      "metadata": {
        "id": "ODUV0c8PMDmx"
      },
      "source": [
        "Group the following numbers according to congruence mod 7. In other words, put two numbers in the same group if they are equivalent mod 7.\n",
        "\n",
        "{-48, -26, 1, 8, 3, 70, 24, 32, 11, 5, 27, 19, 49}"
      ]
    },
    {
      "cell_type": "markdown",
      "metadata": {
        "id": "-PteeMxHMDmx"
      },
      "source": [
        "#### Your Answer:"
      ]
    },
    {
      "cell_type": "markdown",
      "metadata": {
        "id": "l5N6Xe-VMDmx"
      },
      "source": [
        "### Exercise 9.7"
      ]
    },
    {
      "cell_type": "markdown",
      "metadata": {
        "id": "6LOaq0YXMDmx"
      },
      "source": [
        "Compute the value of the following expressions. Show your work. You should not need a calculator.\n",
        "\n",
        "1. $50^{27}\\bmod 7$\n",
        "2. $27^{4}\\bmod 5$\n",
        "3. $65^{8}\\bmod 9$\n",
        "4. $81^{10}\\bmod 7$"
      ]
    },
    {
      "cell_type": "markdown",
      "metadata": {
        "id": "SWIk1GlhMDmx"
      },
      "source": [
        "#### Your Answer:"
      ]
    },
    {
      "cell_type": "markdown",
      "metadata": {
        "id": "oiP9yzKXMDmx"
      },
      "source": [
        "### Exercise 9.8"
      ]
    },
    {
      "cell_type": "markdown",
      "metadata": {
        "id": "taqD0Ts7MDmx"
      },
      "source": [
        "Give the prime factorization for the following numbers.\n",
        "\n",
        "1. 27\n",
        "2. 35\n",
        "3. 110\n",
        "4. 74\n",
        "5. 24\n",
        "6. 88"
      ]
    },
    {
      "cell_type": "markdown",
      "metadata": {
        "id": "QsUu6EPfMDmx"
      },
      "source": [
        "#### Your Answer:"
      ]
    },
    {
      "cell_type": "markdown",
      "metadata": {
        "id": "ZjdbOQnJMDmx"
      },
      "source": [
        "### Exercise 9.9"
      ]
    },
    {
      "cell_type": "markdown",
      "metadata": {
        "id": "i7C8Dr7mMDmx"
      },
      "source": [
        "Find the GCD and LCM of the following numbers without using Python.\n",
        "\n",
        "1. $2^3 \\cdot 3^2 \\cdot 5$ and $2 \\cdot 3^3 \\cdot 5^2 \\cdot 7$\n",
        "2. $2 \\cdot 5^3 \\cdot 7 \\cdot 11^2$ and $2^3 \\cdot 3 \\cdot 5 \\cdot 11$\n",
        "3. $2^2 \\cdot 3 \\cdot 7^2 \\cdot 13$ and $2 \\cdot 3^2 \\cdot 5 \\cdot 7 \\cdot 13^2$\n",
        "3. $5!$ and $2 \\cdot 3 \\cdot 5$\n",
        "4. $19^3$ and $19^4$\n"
      ]
    },
    {
      "cell_type": "markdown",
      "metadata": {
        "id": "B_SeW8LlMDmx"
      },
      "source": [
        "#### Your Answer:"
      ]
    },
    {
      "cell_type": "markdown",
      "metadata": {
        "id": "EUMVKkiHMDmy"
      },
      "source": [
        "### Exercise 9.10"
      ]
    },
    {
      "cell_type": "markdown",
      "metadata": {
        "id": "qNg5HpikMDmy"
      },
      "source": [
        "Here is a brute-force algorithm for factoring an integer $N$ based on Figure 9.4.1:\n",
        "\n",
        "```\n",
        "Input: Integer N greater than 1.\n",
        "Output: \"Prime\" if N is prime. If N is composite, return two integers greater than 1 whose product is N.\n",
        "\n",
        "For x = 2 to N-1\n",
        "      If x evenly divides N,\n",
        "            Return( x, N/x )\n",
        "End-for\n",
        "\n",
        "Return( \"Prime\" )\n",
        "```"
      ]
    },
    {
      "cell_type": "markdown",
      "metadata": {
        "id": "hkF52VIyMDmy"
      },
      "source": [
        "Write a Python function in the code block below to implement this algorithm.\n",
        "\n",
        "After writing your code in the block below, complete each of the following.\n",
        "\n",
        "1. Try a few numbers for the input $N$. Does this algorithm work well for large numbers?\n",
        "\n",
        "2. Try these numbers (all of which are Primes):\n",
        "19, 89, 1289, 7919\n",
        "\n",
        "3. Try these numbers (which are not Primes):\n",
        "18, 91, 1287, 7921\n",
        "\n",
        "4. Try each of these numbers: 39916801, 433494437, 87178291199. Does it finish in a reasonable amount of time? (You can stop it if it takes too long.)\n",
        "\n",
        "5. Now modifiy this algorithm to make it more efficient by only testing factors up to $\\sqrt{N}$. Try it again with the numbers in step 4. Is it faster?\n"
      ]
    },
    {
      "cell_type": "code",
      "execution_count": null,
      "metadata": {
        "id": "0eeHTDvzMDmy"
      },
      "outputs": [],
      "source": [
        "# Your code here for steps 1-4"
      ]
    },
    {
      "cell_type": "code",
      "execution_count": null,
      "metadata": {
        "id": "fsAq4Hv1MDmy"
      },
      "outputs": [],
      "source": [
        "# Your code here for step 5"
      ]
    },
    {
      "cell_type": "markdown",
      "metadata": {
        "id": "-ErHx6fvMDmy"
      },
      "source": [
        "### Exercise 9.11"
      ]
    },
    {
      "cell_type": "markdown",
      "metadata": {
        "id": "s45IAYYrnYq4"
      },
      "source": [
        "Trace through the steps of computing the following greatest common divisors using Euclid's algorithm. You may write LaTeX or attach a photo of your work:\n",
        "1. gcd(57, 43)\n",
        "2. gcd(501, 39)\n",
        "3. gcd(765, 110)\n",
        "4. gcd(899, 493)\n"
      ]
    },
    {
      "cell_type": "markdown",
      "metadata": {
        "id": "6GOG90QEMDm1"
      },
      "source": [
        "#### Your Answer:"
      ]
    },
    {
      "cell_type": "markdown",
      "metadata": {
        "id": "4xY9NmWLMDm1"
      },
      "source": [
        "### Exercise 9.12"
      ]
    },
    {
      "cell_type": "markdown",
      "metadata": {
        "id": "ty_03wFZMDm1"
      },
      "source": [
        "Euclid's GCD Theorem says that if x and y are two positive integers such that x ≠ 0, then gcd(x, y) = gcd(y mod x, x).\n",
        "\n",
        "We can use this theorem to quickly compute the GCD of two positive integers by continuing to apply the theorem until y mod x is 0. At that point, we know the GCD is x.\n",
        "\n",
        "Implement an iterative version of Euclid's GCD Algorithm as a function called `igcd` (for iterative gcd) to compute the GCD of two integers. Then, test it out on several numbers. Use it to check your answers on the previous exercise.\n",
        "\n",
        "Use the following psuedocode to help you get started.\n",
        "\n",
        "```\n",
        "While (x > 0)\n",
        "   r := y mod x\n",
        "   y := x\n",
        "   x := r\n",
        "End-while\n",
        "\n",
        "Return(y)\n",
        "```\n",
        "\n",
        "\n"
      ]
    },
    {
      "cell_type": "markdown",
      "metadata": {
        "id": "-s9xN6juMDm1"
      },
      "source": [
        "#### Your Answer:"
      ]
    },
    {
      "cell_type": "code",
      "execution_count": null,
      "metadata": {
        "id": "GrVRb5fjMDm1"
      },
      "outputs": [],
      "source": [
        "def igcd(x, y):\n",
        "    # your code here\n",
        "    pass\n",
        "\n",
        "\n",
        "# This should print True if your gcd function is correct\n",
        "print(igcd(0,1) == 1\n",
        "  and igcd(1,1) == 1\n",
        "  and igcd(1,0) == 1\n",
        "  and igcd(5,7) == 1\n",
        "  and igcd(7,5) == 1\n",
        "  and igcd(5,7) == 1\n",
        "  and igcd(25,100) == 25\n",
        "  and igcd(27,36) == 9\n",
        "  and igcd(36,27) == 9\n",
        "  and igcd(39,93) == 3)"
      ]
    },
    {
      "cell_type": "markdown",
      "metadata": {
        "id": "gyg2kHCBMDm1"
      },
      "source": [
        "### Exercise 9.13"
      ]
    },
    {
      "cell_type": "markdown",
      "metadata": {
        "id": "yJgf8bj1MDm1"
      },
      "source": [
        "The extended Euclidean algorithm can be used to express the gcd of x and y as a linear combination:\n",
        "\n",
        "gcd(x,y) = sx + ty\n",
        "\n",
        "Use the extended Euclidean algorithm to find a linear combination of x and y for the following (computed by hand):\n",
        "\n",
        "1. 5, 11\n",
        "2. 27, 39"
      ]
    },
    {
      "cell_type": "markdown",
      "metadata": {
        "id": "LCKd-bgvMDm1"
      },
      "source": [
        "#### Your Answer:"
      ]
    },
    {
      "cell_type": "markdown",
      "metadata": {
        "id": "LcqFN4BXMDm1"
      },
      "source": [
        "### Exercise 9.14"
      ]
    },
    {
      "cell_type": "markdown",
      "metadata": {
        "id": "Fd7vUfbqMDm1"
      },
      "source": [
        "For each x and n, find the **multiplicative inverse mod n** of x. Check your solution by verifying that sx mod n = 1. (You should be able to do these by eyeballing it)\n",
        "\n",
        "For example, to find the inverse of 2 mod 7, find $s$ such that s*2 mod 7 = 1.\n",
        "\n",
        "1. x=2, n=7\n",
        "2. x=5, n=11\n",
        "3. x=7, n=20\n",
        "4. x=3, n=13\n"
      ]
    },
    {
      "cell_type": "markdown",
      "metadata": {
        "id": "maOf_X53MDm1"
      },
      "source": [
        "#### Your Answer:"
      ]
    },
    {
      "cell_type": "markdown",
      "metadata": {
        "id": "bMDabzmRMDm1"
      },
      "source": [
        "### Exercise 9.15"
      ]
    },
    {
      "cell_type": "markdown",
      "metadata": {
        "id": "x2g8jrqJMDm1"
      },
      "source": [
        "Use the Extended Euclidean Algorithm to find the multiplicative inverse of $83 \\bmod 96$. (Compute this by hand and show your work.)\n",
        "\n",
        "The Extended Euclidean Algorithm can be used to find the multiplicative inverse of $x \\bmod n$ when it exists. We use this algorithm to express the $\\gcd(x,y)$ as a linear combination of $x$ and $y$ by finding integers $s$ and $t$ such that $\\gcd(x,y) = sx + ty$.\n",
        "\n",
        "If $x$ and $n$ are relatively prime, then $\\gcd(x,n) = 1$. Thus, the Extended Euclidean Algorithm will find $s$ and $t$ such that $1 = sx + tn$.\n",
        "\n",
        "$s$ is the multiplicative inverse of $x$ under mod $n$. And $t$ is the multiplicative inverse of $n$ under mod $x$.\n",
        "\n",
        "\n",
        "In other words, solve for $s$ and $t$. When you find $s$ and $t$, then $s$ is the multiplicative inverse of $83 \\bmod 96$. (Note: If you get a negative integer for $s$, add $96$ to make it positive. The inverse we are looking for is the smallest non-negative integer that is an inverse of $83 \\bmod 96$)\n",
        "\n",
        "$1 = s*83 + t*96$"
      ]
    },
    {
      "cell_type": "markdown",
      "metadata": {
        "id": "1zyyih-SMDm1"
      },
      "source": [
        "#### Your Answer:"
      ]
    },
    {
      "cell_type": "markdown",
      "metadata": {
        "id": "HCjgnJwTbbhN"
      },
      "source": [
        "----------------------\n",
        "## Sample Solutions\n",
        "\n",
        "**Note**:\n",
        "Sample solutions are provided in order to help you **learn**. The purpose of these exercises is not to simply turn in the answers, but to take the time and effort to learn and understand the material. You are encouraged to work the problems first, then when you are satisfied that you have the correct answer, look at the sample solution and compare it with yours."
      ]
    },
    {
      "cell_type": "markdown",
      "metadata": {
        "id": "bHx-q_YrMDm2"
      },
      "source": [
        "### Sample Solution 9.1"
      ]
    },
    {
      "cell_type": "code",
      "execution_count": null,
      "metadata": {
        "id": "EtVvVDUXMDm2"
      },
      "outputs": [],
      "source": [
        "# Define a function to perform integer division,\n",
        "# returning an integer and a remainder.\n",
        "integer_division = lambda a,b: (a//b, a%b)\n",
        "\n",
        "result = integer_division(9,4)\n",
        "print(f'{result[0]}r{result[1]}')\n"
      ]
    },
    {
      "cell_type": "markdown",
      "metadata": {
        "id": "y5XQbF1OMDm2"
      },
      "source": [
        "### Sample Solution 9.2"
      ]
    },
    {
      "cell_type": "code",
      "execution_count": null,
      "metadata": {
        "id": "Nc2l31_7MDm2"
      },
      "outputs": [],
      "source": [
        "divides = lambda d,n: True if n%d == 0 else (n//d, n%d)\n",
        "\n",
        "print('1.', divides(3,12))\n",
        "print('2.', divides(3,13))\n",
        "print('3.', divides(14,58))\n",
        "print('4.', divides(73,1752))\n",
        "print('5.', divides(73,1753))"
      ]
    },
    {
      "cell_type": "markdown",
      "metadata": {
        "id": "bnGEr1C9MDm2"
      },
      "source": [
        "### Sample Solution 9.3"
      ]
    },
    {
      "cell_type": "code",
      "execution_count": null,
      "metadata": {
        "id": "8I1s_70MMDm2"
      },
      "outputs": [],
      "source": [
        "divisors = lambda n: {n//x for x in range(1,n+1) if n%x == 0}\n",
        "\n",
        "print('1.', sorted(divisors(36)))\n",
        "print('2.', sorted(divisors(24)))\n",
        "print('3.', sorted(divisors(56)))\n",
        "print('4.', sorted(divisors(100)))\n",
        "print('5.', sorted(divisors(116)))"
      ]
    },
    {
      "cell_type": "markdown",
      "metadata": {
        "id": "tMJxxGsRMDm2"
      },
      "source": [
        "### Sample Solution 9.4"
      ]
    },
    {
      "cell_type": "markdown",
      "metadata": {
        "id": "FNP-nz_EMDm2"
      },
      "source": [
        "The division algorithm says $n = dq + r$. So we can solve for $n$ by plugging in $d$, $q$, and $r$.\n",
        "\n",
        "1. n = 11*4 + 3 = 47\n",
        "2. n = 5*8 + 1 = 41\n",
        "3. n = 7*9 + 0 = 63\n",
        "4. n = 15*4 + 7 = 67\n",
        "5. n = -2*13 + 3 = -23"
      ]
    },
    {
      "cell_type": "markdown",
      "metadata": {
        "id": "u9XVDN9lMDm2"
      },
      "source": [
        "### Sample Solution 9.5"
      ]
    },
    {
      "cell_type": "code",
      "execution_count": null,
      "metadata": {
        "id": "9BmM2quiMDm2"
      },
      "outputs": [],
      "source": [
        "# Solution\n",
        "\n",
        "def division(n, d):\n",
        "    q = 0\n",
        "    r = n\n",
        "\n",
        "    # Case 1\n",
        "    if n >= 0:\n",
        "        while r >= d:\n",
        "            q = q + 1\n",
        "            r = r - d\n",
        "\n",
        "    # Case 2\n",
        "    else:\n",
        "        while r < 0:\n",
        "            q = q - 1\n",
        "            r = r + d\n",
        "\n",
        "    return (q, r)\n",
        "\n",
        "print(division(9,4))\n",
        "print(division(-9,4))\n"
      ]
    },
    {
      "cell_type": "markdown",
      "metadata": {
        "id": "dkcpmQYJMDm2"
      },
      "source": [
        "### Sample Solution 9.6"
      ]
    },
    {
      "cell_type": "markdown",
      "metadata": {
        "id": "8h8qSWE2MDm2"
      },
      "source": [
        "0 mod 7: 49, 70\n",
        "\n",
        "1 mod 7: -48, 1, 8\n",
        "\n",
        "2 mod 7: -26\n",
        "\n",
        "3 mod 7: 3, 24\n",
        "\n",
        "4 mod 7: 11, 32\n",
        "\n",
        "5 mod 7: 5, 19\n",
        "\n",
        "6 mod 7: 27"
      ]
    },
    {
      "cell_type": "code",
      "execution_count": null,
      "metadata": {
        "id": "3K7UMJVaMDm2",
        "outputId": "0c6fda93-9b97-4bdf-eb03-48e7db11a919"
      },
      "outputs": [
        {
          "data": {
            "text/plain": [
              "[(1, -48),\n",
              " (2, -26),\n",
              " (1, 1),\n",
              " (1, 8),\n",
              " (3, 3),\n",
              " (0, 70),\n",
              " (3, 24),\n",
              " (4, 32),\n",
              " (4, 11),\n",
              " (5, 5),\n",
              " (6, 27),\n",
              " (5, 19),\n",
              " (0, 49)]"
            ]
          },
          "metadata": {},
          "output_type": "display_data"
        }
      ],
      "source": [
        "# Some python to help quickly find the solution\n",
        "nums = [-48, -26, 1, 8, 3, 70, 24, 32, 11, 5, 27, 19, 49]\n",
        "[*map(lambda x: (x%7, x), nums)]"
      ]
    },
    {
      "cell_type": "code",
      "execution_count": null,
      "metadata": {
        "id": "swp6L0FQMDm2",
        "outputId": "68dc36aa-a177-49ba-9d6b-4520366e7a74"
      },
      "outputs": [
        {
          "name": "stdout",
          "output_type": "stream",
          "text": [
            "{1: [-48, 1, 8], 2: [-26], 3: [3, 24], 0: [70, 49], 4: [32, 11], 5: [5, 19], 6: [27]}\n"
          ]
        }
      ],
      "source": [
        "# Another way, using defaultdict\n",
        "from collections import defaultdict\n",
        "congruence_mod_7 = defaultdict(list) # creates a dictionary in which the default value is a list\n",
        "for x in nums:\n",
        "    congruence_mod_7[x%7].append(x)\n",
        "\n",
        "print(dict(congruence_mod_7))\n"
      ]
    },
    {
      "cell_type": "markdown",
      "metadata": {
        "id": "ELcEL5GnMDm2"
      },
      "source": [
        "### Sample Solution 9.7"
      ]
    },
    {
      "cell_type": "markdown",
      "metadata": {
        "id": "Xb1A-VgIMDm2"
      },
      "source": [
        "Compute the value of the following expressions. Show your work. You should not need a calculator.\n",
        "\n",
        "1. $50^{27}\\bmod 7 = (50\\bmod 7)^{27}\\bmod 7 = 1^{27}\\bmod 7 = 1 $\n",
        "2. $27^{4}\\bmod 5 = (27\\bmod 5)^{4} \\bmod 5 = 2^4 \\bmod 5 = 16 \\bmod 5 = 1$\n",
        "3. $65^{8}\\bmod 9$\n",
        "   \n",
        "   First find $65^1 \\bmod 9$, then square that result to find $65^2 \\bmod 9$, then square that to find $65^4 \\bmod 9$, and so on.\n",
        "   \n",
        "   $65 \\bmod 9 = 2$\\\n",
        "   $65^2\\bmod 9 = (65 \\bmod 9)^2 \\bmod 9 = (2^2) \\bmod 9 = 4\\bmod 9 = 4$\\\n",
        "   $65^4\\bmod 9 = (65^2\\bmod 9)^2 \\bmod 9 = (4^2)\\bmod 9 = 16 \\bmod 9 = 7$\\\n",
        "   $65^8\\bmod 9 = (65^4\\bmod 9)^2 \\bmod 9 = (7^2)\\bmod 9 = 49 \\bmod 9 = 4$\n",
        "\n",
        "   Thus, $65^{8}\\bmod 9 = 4$\n",
        "   \n",
        "   \n",
        "4. $81^{10}\\bmod 7$\n",
        "\n",
        "   First, find $81^1 \\bmod 7$, then square that result to find $81^2 \\bmod 7$, and so on...\n",
        "\n",
        "   $81^1\\bmod 7 = 4$\\\n",
        "   $81^2\\bmod 7 = (4^2) \\bmod 7 = 16 \\bmod 7 = 2$\\\n",
        "   $81^4\\bmod 7 = (2^2) \\bmod 7 = 4 \\bmod 7 = 4$\\\n",
        "   $81^8\\bmod 7 = (4^2) \\bmod 7 = 16 \\bmod 7 = 2$\\\n",
        "   $81^{10}\\bmod 7 = (81^8 \\bmod 7 * 81^2 \\bmod 7) \\bmod 7 = (2*2) \\bmod 7 = 4$\n"
      ]
    },
    {
      "cell_type": "markdown",
      "metadata": {
        "id": "G0JHk33iMDm3"
      },
      "source": [
        "### Sample Solution 9.8"
      ]
    },
    {
      "cell_type": "markdown",
      "metadata": {
        "id": "GTGQhPQGMDm3"
      },
      "source": [
        "1. $3^3$\n",
        "2. $5 \\cdot 7$\n",
        "3. $2 \\cdot 5 \\cdot 11$\n",
        "4. $2 \\cdot 37$\n",
        "5. $2^3 \\cdot 3$\n",
        "6. $2^3 \\cdot 11$\n"
      ]
    },
    {
      "cell_type": "markdown",
      "metadata": {
        "id": "_OO40FpDMDm3"
      },
      "source": [
        "### Sample Solution 9.9"
      ]
    },
    {
      "cell_type": "markdown",
      "metadata": {
        "id": "EimIWuUtMDm3"
      },
      "source": [
        "1. GCD: $2 \\cdot 3^2 \\cdot 5$, LCM: $2^3 \\cdot 3^3 \\cdot 5^2 \\cdot 7$\n",
        "2. GCD: $2 \\cdot 5 \\cdot 11$, LCM: $2^3 \\cdot 3 \\cdot 5^3 \\cdot 7 \\cdot 11^2$\n",
        "3. GCD: $2 \\cdot 3 \\cdot 7 \\cdot 13$, LCM: $2^2 \\cdot 3^2 \\cdot 5 \\cdot 7^2 \\cdot 13^2$\n",
        "4. GCD: $2 \\cdot 3 \\cdot 5$, LCM: $2^3 \\cdot 3 \\cdot 5$\n",
        "5. GCD: $19^3$, LCM: $19^4$\n"
      ]
    },
    {
      "cell_type": "markdown",
      "metadata": {
        "id": "RZPggKWbMDm3"
      },
      "source": [
        "### Sample Solution 9.10"
      ]
    },
    {
      "cell_type": "code",
      "execution_count": null,
      "metadata": {
        "id": "rfSuJbcIMDm3"
      },
      "outputs": [],
      "source": [
        "# sample solution\n",
        "def factor(n):\n",
        "    for x in range(2, n):\n",
        "        if n % x == 0: # x evenly divides n\n",
        "            return (x, n//x)\n",
        "    return (\"Prime\")\n",
        "\n",
        "# Pick some random numbers\n",
        "import random\n",
        "random_nums = [random.randrange(1,1000) for _ in range(10)]\n",
        "print(random_nums)\n",
        "\n",
        "\n",
        "# Try out our algorithm with each of the random numbers\n",
        "result = [*map(lambda n: factor(n), random_nums)]\n",
        "print(result)"
      ]
    },
    {
      "cell_type": "code",
      "execution_count": null,
      "metadata": {
        "id": "UPAxLk2PMDm3"
      },
      "outputs": [],
      "source": [
        "# Try with some other numbers\n",
        "primes = [19, 89, 1289, 7919]\n",
        "result = [*map(lambda n: factor(n), primes)]\n",
        "print(result)\n",
        "\n",
        "not_primes = [18, 25, 81, 91, 1287, 7921]\n",
        "result = [*map(lambda n: factor(n), not_primes)]\n",
        "print(result)"
      ]
    },
    {
      "cell_type": "code",
      "execution_count": null,
      "metadata": {
        "id": "O97LnHcdMDm3"
      },
      "outputs": [],
      "source": [
        "# Try with a larger number\n",
        "n = 39916801 # ~2s\n",
        "# n = 433494437 # ~20s\n",
        "# n = 8589935681 # ~1600s\n",
        "# n = 87178291199 # ?\n",
        "# n = 10888869450418352160768000001 # ?\n",
        "factor(n)"
      ]
    },
    {
      "cell_type": "markdown",
      "metadata": {
        "id": "y6u8VPPmMDm3"
      },
      "source": [
        "Now modifiy this algorithm to make it more efficient by only testing factors up to $\\sqrt{N}$.\n"
      ]
    },
    {
      "cell_type": "code",
      "execution_count": null,
      "metadata": {
        "id": "eJfzEHRZMDm3"
      },
      "outputs": [],
      "source": [
        "# sample solution\n",
        "from math import floor, sqrt\n",
        "def factor_2(n):\n",
        "    for x in range(2, floor(sqrt(n)) + 1):\n",
        "        if n % x == 0: # x evenly divides n\n",
        "            return (x, n//x)\n",
        "    return (\"Prime\")\n",
        "\n"
      ]
    },
    {
      "cell_type": "markdown",
      "metadata": {
        "id": "uaRRflWkMDm3"
      },
      "source": [
        "### Sample Solution 9.11"
      ]
    },
    {
      "cell_type": "markdown",
      "metadata": {
        "id": "F_VC_jglMDm3"
      },
      "source": [
        "$\\begin{array}{rlrllrl}\n",
        "a & = & b & (q) & + & r & \\\\\n",
        "\\hline\n",
        "57 & = & 43 & (1) & + & 14 & \\\\\n",
        "43 & = & 14 & (3) & + & 1 & \\leftarrow \\gcd \\\\\n",
        "14 & = & 1 & (14) & + & 0 & \\\\\n",
        "\\end{array}$\n",
        "\n",
        "$\\begin{array}{rlrllrl}\n",
        "a & = & b & (q) & + & r & \\\\\n",
        "\\hline\n",
        "501 & = & 39 & (12) & + & 33 & \\\\\n",
        "39 & = & 33 & (1) & + & 6 & \\\\\n",
        "33 & = & 6 & (5) & + & 3 & \\leftarrow \\gcd \\\\\n",
        "6 & = & 3 & (2) & + & 0 & \\\\\n",
        "\\end{array}$\n",
        "\n",
        "$\\begin{array}{rlrllrl}\n",
        "a & = & b & (q) & + & r & \\\\\n",
        "\\hline\n",
        "765 & = & 110 & (6) & + & 105 & \\\\\n",
        "110 & = & 105 & (1) & + & 5 & \\leftarrow \\gcd \\\\\n",
        "105 & = & 5 & (21) & + & 0 & \\\\\n",
        "\\end{array}$\n",
        "\n",
        "$\\begin{array}{rlrllrl}\n",
        "a & = & b & (q) & + & r & \\\\\n",
        "\\hline\n",
        "899 & = & 493 & (1) & + & 406 & \\\\\n",
        "493 & = & 406 & (1) & + & 87 & \\\\\n",
        "406 & = & 87 & (4) & + & 58 & \\\\\n",
        "87 & = & 58 & (1) & + & 29 & \\leftarrow \\gcd \\\\\n",
        "58 & = & 29 & (2) & + & 0 & \\\\\n",
        "\\end{array}\n",
        "$"
      ]
    },
    {
      "cell_type": "markdown",
      "metadata": {
        "id": "af71mu5YMDm3"
      },
      "source": [
        "### Sample Solution 9.12"
      ]
    },
    {
      "cell_type": "code",
      "execution_count": null,
      "metadata": {
        "id": "EITfN2PpMDm3"
      },
      "outputs": [],
      "source": [
        "# Euclid's GCD Algorithm, iterative version\n",
        "\n",
        "# Method #1\n",
        "def igcd(x, y):\n",
        "    while (x > 0):\n",
        "        r = y%x\n",
        "        y = x\n",
        "        x = r\n",
        "    return y\n",
        "\n",
        "# Another way, shortcutting the r\n",
        "def igcd(x, y):\n",
        "    while x>0:\n",
        "        (x,y) = (y%x, x)\n",
        "    return y\n",
        "\n",
        "print(igcd(0, 1) == 1\n",
        "      and igcd(1, 1) == 1\n",
        "      and igcd(1, 0) == 1\n",
        "      and igcd(5, 7) == 1\n",
        "      and igcd(7, 5) == 1\n",
        "      and igcd(5, 7) == 1\n",
        "      and igcd(25, 100) == 25\n",
        "      and igcd(27, 36) == 9\n",
        "      and igcd(36, 27) == 9\n",
        "      and igcd(39, 93) == 3)\n"
      ]
    },
    {
      "cell_type": "markdown",
      "metadata": {
        "id": "48cirTCeMDm3"
      },
      "source": [
        "### Sample Solution 9.13"
      ]
    },
    {
      "cell_type": "markdown",
      "metadata": {
        "id": "oqj3fGbGMDm3"
      },
      "source": [
        "1. gcd(5,11)\n",
        "\n",
        "   First find the gcd.\n",
        "\n",
        "   1. $11 = 5(2) + 1$ <-- gcd\n",
        "  \n",
        "   2. $5 = 1(5) + 0 $\n",
        "\n",
        "   Now use substitution to find a linear combination of the form $1=s*5 + t*11$.\n",
        "\n",
        "   4. $1 = 11 - 5(2)$ **from step 1**\n",
        "\n",
        "   5. $1 = -2*5 + 11$ **rearrange and done**\n",
        "\n",
        "   $s=-2$ and $t=1$\n",
        "\n",
        "\n",
        "\n",
        "\n",
        "\n",
        "\n",
        "2. gcd(27,39)\n",
        "   \n",
        "   1. $39 = 27(1) + 12$\n",
        "\n",
        "   2. $27 = 12(2) + 3$  <-- gcd\n",
        "\n",
        "   3. $12 = 3(4) + 0$\n",
        "\n",
        "   Now use substitution to find a linear combination of the form $3=s*27 + t*39$\n",
        "\n",
        "   4. $3 = 27 - 2(12)$ **from step 2**\n",
        "\n",
        "   5. $12 = 39 - 27$ **from step 1**\n",
        "\n",
        "   6. $3 = 27 - 2(39 - 27)$ **substitute step 5**\n",
        "\n",
        "   7. $3 = 27 - 2(39) + 2(27)$ **simplify**\n",
        "\n",
        "   8. $3 = 3(27) - 2(39)$ **simplify and rearrange and done**\n",
        "\n",
        "   $s=3$ and $t=-2$\n"
      ]
    },
    {
      "cell_type": "code",
      "execution_count": null,
      "metadata": {
        "id": "ZTWh0-9nMDm3"
      },
      "outputs": [],
      "source": [
        "# check answer using python\n",
        "3 == 3*27 - 2*39"
      ]
    },
    {
      "cell_type": "markdown",
      "metadata": {
        "id": "C5sb9IKvMDm3"
      },
      "source": [
        "### Sample Solution 9.14"
      ]
    },
    {
      "cell_type": "markdown",
      "metadata": {
        "id": "-TanQfWzMDm3"
      },
      "source": [
        "We need to solve for s in the equation sx mod n = 1.\n",
        "\n",
        "1. s\\*2 mod 7 = 1, so s=4. To verify, 2\\*4 mod 7 = 1.\n",
        "\n",
        "2. s=9 because 9\\*5 mod 11 = 1.\n",
        "\n",
        "3. s=3 because 3\\*7 mod 20 = 1.\n",
        "\n",
        "4. s=9 because 3\\*9 mod 13 = 27 mod 13 = 1."
      ]
    },
    {
      "cell_type": "markdown",
      "metadata": {
        "id": "JlIEZAmVMDm3"
      },
      "source": [
        "### Sample Solution 9.15"
      ]
    },
    {
      "cell_type": "markdown",
      "metadata": {
        "id": "pVDIwjcyMDm3"
      },
      "source": [
        "![20220527_155353 (1) (1).jpg](data:image/jpeg;base64,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)"
      ]
    }
  ],
  "metadata": {
    "colab": {
      "collapsed_sections": [
        "HCjgnJwTbbhN"
      ],
      "provenance": [],
      "toc_visible": true,
      "include_colab_link": true
    },
    "interpreter": {
      "hash": "1977c1262a5a71e57f8e1e2a9337f4268800bf2d1a595fc1ecb322ccb8b2351d"
    },
    "kernelspec": {
      "display_name": "Python 3.9.0 ('.env': venv)",
      "language": "python",
      "name": "python3"
    },
    "language_info": {
      "codemirror_mode": {
        "name": "ipython",
        "version": 3
      },
      "file_extension": ".py",
      "mimetype": "text/x-python",
      "name": "python",
      "nbconvert_exporter": "python",
      "pygments_lexer": "ipython3",
      "version": "3.9.0"
    }
  },
  "nbformat": 4,
  "nbformat_minor": 0
}