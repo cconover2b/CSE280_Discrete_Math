{
  "cells": [
    {
      "cell_type": "markdown",
      "metadata": {
        "id": "view-in-github",
        "colab_type": "text"
      },
      "source": [
        "<a href=\"https://colab.research.google.com/github/cconover2b/CSE280_Discrete_Math/blob/main/Copy_of_class_activity_w06_relations.ipynb\" target=\"_parent\"><img src=\"https://colab.research.google.com/assets/colab-badge.svg\" alt=\"Open In Colab\"/></a>"
      ]
    },
    {
      "cell_type": "markdown",
      "metadata": {
        "id": "W8B0c4gVx7n1"
      },
      "source": [
        "# Class Activity - Relational Databases"
      ]
    },
    {
      "cell_type": "markdown",
      "metadata": {
        "id": "u2YOMYhwx7n3"
      },
      "source": [
        "## How do relations relate to relational databases?\n",
        "\n",
        "Most of our discussion of relations so far has been focused on binary relations, which are sets of ordered pairs that map from one set to another set. For example, R = {(a,b), (b,a), (a,c), (c,c), (d,a)}.\n",
        "\n",
        "More generally, relations can be defined on more than two sets. When a relation is defined on more than two sets, it is called an **n-ary relation**.\n",
        "\n",
        "For example, a relation on sets $A_1, A_2, \\dots, A_n$ is a subset of the cartesian product of these sets, which is $A_1 \\times A_2 \\times \\dots \\times A_n$.\n",
        "\n",
        "An n-ary relation is a set of ordered n-tuples containing elements from each of the sets.\n",
        "\n",
        "For example, given the sets $A = \\{\\textrm{All First Names}\\}$, $B = \\{x \\in \\mathbb{Z} :\\, 0 < x < 120 \\}$, $C = \\{\\textrm{Freshman, Sophomore, Junior, Senior} \\}$, and $D = \\{\\textrm{All Countries}\\}$, one relation between these sets could be defined as the set of 4-tuples that represent students attending BYU-Idaho.\n",
        "\n",
        "One example of an n-tuple in this relation could be $(\\textrm{Alice, 21, Sophomore, United States})$.\n",
        "\n",
        "A table in a relational database is a relation. In other words, it is a set of ordered n-tuples with each n-tuple in the relation representing a single row in the database. It is a set because each n-tuple (or row) in the table must be unique.\n",
        "\n"
      ]
    },
    {
      "cell_type": "markdown",
      "metadata": {
        "id": "XAp-je2Jx7n4"
      },
      "source": [
        "## Activity\n",
        "Represent these two tables using Python as a set of n-tuples.\n",
        "\n",
        "Courses table:\n",
        "\n",
        "|Course Number|Course Title|Instructor|Semester|\n",
        "|---|---|---|---|\n",
        "|CSE 110|Programming Building Blocks|Comeau|Spring|\n",
        "|CSE 110|Programming Building Blocks|Phillips|Fall|\n",
        "|CSE 111|Programming with Functions|Birch|Winter|\n",
        "|CSE 111|Programming with Functions|Clements|Fall|\n",
        "|CSE 111|Programming with Functions|Burton|Spring|\n",
        "|CSE 170|Technical Teamwork|Hansen|Fall|\n",
        "|CSE 180|Algorithmic Thinking|Kay|Spring|\n",
        "|CSE 180|Algorithmic Thinking|Kay|Winter|\n",
        "|CSE 280|Discrete Mathematics|Phillips|Spring|\n",
        "|CSE 280|Discrete Mathematics|Barney|Fall|\n",
        "|CSE 280|Discrete Mathematics|Phillips|Winter|\n",
        "|CSE 280|Discrete Mathematics|Macbeth|Winter|\n",
        "\n",
        "Students table:\n",
        "\n",
        "|Student Name|Course Number|Semester|\n",
        "|---|---|---|\n",
        "|Bob|CSE 110|Spring|\n",
        "|Bob|CSE 111|Fall|\n",
        "|Sue|CSE 111|Fall|\n",
        "|Sue|CSE 180|Winter|\n",
        "|Bill|CSE 280|Spring|\n",
        "|Bill|CSE 170|Fall|\n",
        "\n",
        "\n",
        "Then use Python to answer the following questions, using list comprehensions.\n",
        "\n",
        "1. Find all rows in the \"courses\" table where the class number is CSE 280\n",
        "\n",
        "2. Find the names of all classes taught by Phillips\n",
        "\n",
        "3. List all class names for classes taught in Spring\n",
        "\n",
        "4. List all class numbers and instructors for classes taught in Fall\n",
        "\n",
        "5. Find the instructor name for Sue's CSE 111 class. This will require a list comprehension with two `for` clauses. First look Sue's CSE 111 class in the students table to find the semester for that class, then look for that specific class in the classes table.\n",
        "\n",
        "\n",
        "**Hint:** Here is an example of using a list comprehension to find all rows in \"courses\" where the semester is \"Spring\".\n",
        "\n",
        "`{x for x in courses where x[3] == 'Spring'}`\n",
        "\n",
        "If you are familiar with the SQL language, notice the similarities to a list comprehension in Python. To do the same task in SQL, the command would be something like this:\n",
        "\n",
        "    SELECT * FROM courses WHERE semester=\"Spring\"\n",
        "\n",
        "\n"
      ]
    },
    {
      "cell_type": "code",
      "execution_count": null,
      "metadata": {
        "id": "vbTrvGq7x7n4"
      },
      "outputs": [],
      "source": [
        "# Represent the courses table as a set of tuples\n",
        "courses = {(\"CSE 110\", \"Programming Building Blocks\", \"Comeau\", \"Spring\"),\n",
        "           (\"CSE 110\", \"Programming Building Blocks\", \"Phillips\", \"Fall\"),\n",
        "           (\"CSE 111\", \"Programming with Functions\", \"Birch\", \"Winter\"),\n",
        "           (\"CSE 111\", \"Programming with Functions\", \"Clements\", \"Fall\"),\n",
        "           (\"CSE 111\", \"Programming with Functions\", \"Burton\", \"Spring\"),\n",
        "           (\"CSE 170\", \"Technical Teamwork\", \"Hansen\", \"Fall\"),\n",
        "           (\"CSE 180\", \"Algorithmic Thinking\", \"Kay\", \"Spring\"),\n",
        "           (\"CSE 180\", \"Algorithmic Thinking\", \"Kay\", \"Winter\"),\n",
        "           (\"CSE 280\", \"Discrete Mathematics\", \"Phillips\", \"Spring\"),\n",
        "           (\"CSE 280\", \"Discrete Mathematics\", \"Barney\", \"Fall\"),\n",
        "           (\"CSE 280\", \"Discrete Mathematics\", \"Phillips\", \"Winter\"),\n",
        "           (\"CSE 280\", \"Discrete Mathematics\", \"Macbeth\", \"Winter\")}\n",
        "\n",
        "\n",
        "# Represent the students table as a set of tuples\n",
        "students = {('Bob', 'CSE 110', 'Spring'),\n",
        "            ('Bob', 'CSE 111', 'Fall'),\n",
        "            ('Sue', 'CSE 111', 'Fall'),\n",
        "            (\"Sue\", 'CSE 180', \"Winter\"),\n",
        "            ('Bill', 'CSE 280', 'Spring'),\n",
        "            (\"Bill\", \"CSE 170\", \"Fall\")}\n",
        "\n",
        "\n",
        "# Find all rows where the class number is CSE 280\n",
        "\n",
        "\n",
        "\n",
        "# Find all classes taught by Phillips\n",
        "\n",
        "\n",
        "\n",
        "# List all class names for classes taught in Spring\n",
        "\n",
        "\n",
        "\n",
        "# List all class numbers and instructors for classes taught in Fall\n",
        "\n",
        "\n",
        "\n",
        "# Find the instructor name for Sue's CSE 111 class\n",
        "\n"
      ]
    },
    {
      "cell_type": "markdown",
      "metadata": {
        "id": "2mMi0BPmx7n5"
      },
      "source": [
        "## Sample solution...don't peek until you try it first!"
      ]
    },
    {
      "cell_type": "code",
      "execution_count": null,
      "metadata": {
        "id": "TW8Cq44px7n5"
      },
      "outputs": [],
      "source": [
        "#@title Sample Solution {display-mode: \"form\"}\n",
        "# Find all rows where the class number is CSE 280\n",
        "print({x for x in courses if x[0] == \"CSE 280\"})\n",
        "\n",
        "# Find all classes taught by Phillips\n",
        "print({x for x in courses if x[2] == 'Phillips'})\n",
        "\n",
        "# List all class names for classes taught in Spring\n",
        "print({x[1] for x in courses if x[3] == 'Spring'})\n",
        "\n",
        "# List all class numbers and instructors for classes taught in Fall\n",
        "print({(x[0], x[2]) for x in courses if x[3] == 'Fall'})\n",
        "\n",
        "# Find the instructor name for Sue's CSE 111 class\n",
        "print({course[2]\n",
        "       for student in students if student[0] == 'Sue' and student[1] == 'CSE 111'\n",
        "       for course in courses if course[0] == student[1] and course[3] == student[2]})\n",
        "\n",
        "# Alternatively\n",
        "print({course[2] for course in courses for student in students\n",
        "       if student[0] == 'Sue' and student[1] == 'CSE 111'\n",
        "       and course[0] == student[1] and course[3] == student[2]})"
      ]
    },
    {
      "cell_type": "markdown",
      "source": [
        "# my code"
      ],
      "metadata": {
        "id": "qDSSzv531ro3"
      }
    },
    {
      "cell_type": "code",
      "source": [
        "##Using the below table of prefix codes, store them in a Python dictionary, then use Python to encode this message: \"discrete math is fun\"\n",
        "\n",
        "def encode_message(message, encoding_dict):\n",
        "    encoded_message = \"\"\n",
        "    for char in message:\n",
        "        if char in encoding_dict:\n",
        "            encoded_message += encoding_dict[char]\n",
        "        else:\n",
        "            # If the character is not in the dictionary, keep it unchanged\n",
        "            encoded_message += char\n",
        "    return encoded_message\n",
        "\n",
        "# Dictionary\n",
        "encoding_dictionary = {\n",
        "    'd': '0000', 'l': '0001', 'i': '001', 'r': '0100', 'n': '0101',\n",
        "    'p': '01100', 'z': '01101000', 'w': '011010010', 'y': '011010011',\n",
        "    'j': '011010100', 'k': '011010101', 'h': '01101011', 'g': '0110110',\n",
        "    'v': '0110111', 'a': '0111', 'o': '1000', 'u': '1001', 't': '1010',\n",
        "    'c': '10110', 'b': '1011100', 'f': '1011101', 'x': '1011110',\n",
        "    'q': '1011111', ' ': '110', 'm': '11100', 's': '11101', 'e': '1111'\n",
        "}\n",
        "\n",
        "input_message = 'discrete math is fun'\n",
        "encoded_result = encode_message(input_message, encoding_dictionary)\n",
        "print(f\"Encoded message: {encoded_result}\")\n"
      ],
      "metadata": {
        "id": "Flgodt6L1u1y"
      },
      "execution_count": null,
      "outputs": []
    },
    {
      "cell_type": "code",
      "source": [
        "def encode_message_using_map(message, encoding_dict):\n",
        "    # Map each character in the message to its corresponding code\n",
        "    encoded_chars = map(lambda char: encoding_dict.get(char, char), message)\n",
        "    # Join the encoded characters to form the final encoded message\n",
        "    encoded_message = ''.join(encoded_chars)\n",
        "    return encoded_message\n",
        "\n",
        "# Given dictionary\n",
        "encoding_dictionary = {\n",
        "    'd': '0000', 'l': '0001', 'i': '001', 'r': '0100', 'n': '0101',\n",
        "    'p': '01100', 'z': '01101000', 'w': '011010010', 'y': '011010011',\n",
        "    'j': '011010100', 'k': '011010101', 'h': '01101011', 'g': '0110110',\n",
        "    'v': '0110111', 'a': '0111', 'o': '1000', 'u': '1001', 't': '1010',\n",
        "    'c': '10110', 'b': '1011100', 'f': '1011101', 'x': '1011110',\n",
        "    'q': '1011111', ' ': '110', 'm': '11100', 's': '11101', 'e': '1111'\n",
        "}\n",
        "\n",
        "# Example usage:\n",
        "input_message = 'discrete math is fun'\n",
        "encoded_result = encode_message_using_map(input_message, encoding_dictionary)\n",
        "print(f\"Encoded message using map: {encoded_result}\")\n"
      ],
      "metadata": {
        "id": "XubCvyfd1t1g"
      },
      "execution_count": null,
      "outputs": []
    },
    {
      "cell_type": "code",
      "source": [
        "word = \"mississippi\"\n",
        "# 1\n",
        "print(f'1. {8*len(word)}')\n",
        "\n",
        "# 2\n",
        "total = 1*word.count('s') + 2*word.count('i') + 3*word.count('m') + 3*word.count('p')\n",
        "print(f'2. {total}')\n",
        "\n",
        "# 3\n",
        "print(f'3. {total/len(word)} bits per letter')\n",
        "\n",
        "# 4\n",
        "f = 8  # 8 bits per letter for fixed encoding\n",
        "v = total/len(word)  # this many bits per letter for variable length encoding using the given prefix code\n",
        "print(f'4. {100*(f-v)/f:.2f}%')"
      ],
      "metadata": {
        "colab": {
          "base_uri": "https://localhost:8080/"
        },
        "id": "WYVdcfSR5TQt",
        "outputId": "3c8ce722-c97f-485f-a39a-8e1ebc3ec134"
      },
      "execution_count": 1,
      "outputs": [
        {
          "output_type": "stream",
          "name": "stdout",
          "text": [
            "1. 88\n",
            "2. 21\n",
            "3. 1.9090909090909092 bits per letter\n",
            "4. 76.14%\n"
          ]
        }
      ]
    }
  ],
  "metadata": {
    "interpreter": {
      "hash": "1977c1262a5a71e57f8e1e2a9337f4268800bf2d1a595fc1ecb322ccb8b2351d"
    },
    "kernelspec": {
      "display_name": "Python 3.9.0 ('.env': venv)",
      "language": "python",
      "name": "python3"
    },
    "language_info": {
      "codemirror_mode": {
        "name": "ipython",
        "version": 3
      },
      "file_extension": ".py",
      "mimetype": "text/x-python",
      "name": "python",
      "nbconvert_exporter": "python",
      "pygments_lexer": "ipython3",
      "version": "3.9.0"
    },
    "orig_nbformat": 4,
    "colab": {
      "provenance": [],
      "include_colab_link": true
    }
  },
  "nbformat": 4,
  "nbformat_minor": 0
}