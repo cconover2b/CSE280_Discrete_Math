{
  "cells": [
    {
      "cell_type": "markdown",
      "metadata": {
        "id": "view-in-github",
        "colab_type": "text"
      },
      "source": [
        "<a href=\"https://colab.research.google.com/github/cconover2b/CSE280_Discrete_Math/blob/main/Copy_of_cse280_examples_w07_Encryption.ipynb\" target=\"_parent\"><img src=\"https://colab.research.google.com/assets/colab-badge.svg\" alt=\"Open In Colab\"/></a>"
      ]
    },
    {
      "cell_type": "markdown",
      "metadata": {
        "id": "HLjVbOS4zkcZ"
      },
      "source": [
        "# Encryption"
      ]
    },
    {
      "cell_type": "markdown",
      "metadata": {
        "id": "7Ru-XRyLO9ak"
      },
      "source": [
        "## Private key or Symmetric encryption"
      ]
    },
    {
      "cell_type": "markdown",
      "metadata": {
        "id": "XTpfzp3CPSa3"
      },
      "source": [
        "Private key or *symmetric* encryption uses the same key for encryption and decryption.\n",
        "\n",
        "Here is a simple example of a shift cipher or caesar cipher.\n",
        "\n",
        "To encrypt a message $m$ given a key $k$, we do this:\n",
        "\n",
        "$c = (m+k) \\bmod N$\n",
        "\n",
        "And to decrypt a ciphertext $c$ given the same key $k$, we do this:\n",
        "\n",
        "$m = (c-k) \\bmod N$\n",
        "\n",
        "$N$ should the size of the alphabet we are using."
      ]
    },
    {
      "cell_type": "markdown",
      "metadata": {
        "id": "vAmdbk1xzkcg"
      },
      "source": [
        "Note that this algorithm uses numbers, so we need to first convert a message into digits. One way to do this in Python is with the `ord()` function, which converts a character into its Unicode decimal representation."
      ]
    },
    {
      "cell_type": "code",
      "execution_count": null,
      "metadata": {
        "id": "aAeTZmC6zkcg"
      },
      "outputs": [],
      "source": [
        "# Convert a message to numbers\n",
        "message = \"Hello Class\"\n",
        "message = \"A message with Numbers 0123456789 and symbols !@#$%^&*()-=_+\"\n",
        "message_as_digits = [ord(letter) for letter in message]\n",
        "print(message_as_digits)"
      ]
    },
    {
      "cell_type": "markdown",
      "metadata": {
        "id": "oGeWz1W6zkch"
      },
      "source": [
        "Now we need to decide on a key $k$ and a modulus $N$. We need to make sure each item in the message is less than the modulus.\n",
        "\n",
        "Let's use $k=7$ and $N=128$"
      ]
    },
    {
      "cell_type": "code",
      "execution_count": null,
      "metadata": {
        "id": "37gzaSW7zkci"
      },
      "outputs": [],
      "source": [
        "key = 7  # This key is the same for encryption and decryption\n",
        "modulus = 128"
      ]
    },
    {
      "cell_type": "markdown",
      "metadata": {
        "id": "3h-6n02qzkci"
      },
      "source": [
        "Create the encrypt and decrypt functions."
      ]
    },
    {
      "cell_type": "code",
      "execution_count": null,
      "metadata": {
        "id": "NiLfwNu-zkcj"
      },
      "outputs": [],
      "source": [
        "# Create the encrypt and decrypt function\n",
        "encrypt = lambda m, k, N: (m + k) % N\n",
        "decrypt = lambda c, k, N: (c - k) % N"
      ]
    },
    {
      "cell_type": "code",
      "execution_count": null,
      "metadata": {
        "id": "SOrvm8srzkcj"
      },
      "outputs": [],
      "source": [
        "# Encrypt each number in the message\n",
        "ciphertext_as_digits = [encrypt(digit, key, modulus) for digit in message_as_digits]\n",
        "print(ciphertext_as_digits)"
      ]
    },
    {
      "cell_type": "markdown",
      "metadata": {
        "id": "HlqaLdf3zkcj"
      },
      "source": [
        "We can use the Python `chr()` function to convert from digits back into Unicode symbols."
      ]
    },
    {
      "cell_type": "code",
      "execution_count": null,
      "metadata": {
        "id": "aOoXFj-Kzkck"
      },
      "outputs": [],
      "source": [
        "# Convert to text...this is not strictly necessary\n",
        "ciphertext_as_letters = [chr(letter) for letter in ciphertext_as_digits]\n",
        "print(''.join(ciphertext_as_letters))"
      ]
    },
    {
      "cell_type": "code",
      "execution_count": null,
      "metadata": {
        "id": "0_C3Sjrgzkck"
      },
      "outputs": [],
      "source": [
        "# Decrypt the ciphertext\n",
        "decrypted_as_digits = [decrypt(digit, key, modulus) for digit in ciphertext_as_digits]\n",
        "print(decrypted_as_digits)\n",
        "\n",
        "# Convert numbers back to letters\n",
        "decrypted_as_letters = ''.join([chr(digit) for digit in decrypted_as_digits])\n",
        "print(decrypted_as_letters)"
      ]
    },
    {
      "cell_type": "markdown",
      "metadata": {
        "id": "k6O-VRnZCnfg"
      },
      "source": [
        "## RSA\n"
      ]
    },
    {
      "cell_type": "markdown",
      "metadata": {
        "id": "ZpD2KLi7PLKW"
      },
      "source": [
        "RSA is an example of public key or *asymmetric* encryption, which uses a different key for encryption than for decryption."
      ]
    },
    {
      "cell_type": "markdown",
      "metadata": {
        "id": "uIMKPsfxC2K3"
      },
      "source": [
        "$p$ and $q$ must be prime numbers.\n",
        "\n",
        "Let $p=3$ and $q=11$.\n",
        "\n",
        "Then $t=(p-1)*(q-1) = 20$\n",
        "\n",
        "$e$ must be anything that is coprime to $t$. Let's choose $e=3$.\n",
        "\n",
        "$d$ is the inverse of $e$ under mod $t$, so if $e = 3$ and $t = 20$, then the inverse $d$ is:\n",
        "\n",
        "$3*d \\bmod{20} = 1$, so $d = 7$\n",
        "\n"
      ]
    },
    {
      "cell_type": "code",
      "execution_count": null,
      "metadata": {
        "id": "2yP5RIQxCo8j",
        "colab": {
          "base_uri": "https://localhost:8080/"
        },
        "outputId": "9d227f49-cd10-4180-af64-90cda4ac2fd4"
      },
      "outputs": [
        {
          "output_type": "stream",
          "name": "stdout",
          "text": [
            "p:87178291199, q:22815088913\n",
            "n:1988980464988590376687\n",
            "t:1988980464878596996576\n",
            "e:65537\n",
            "d:7\n",
            "m:15\n",
            "c:1927890433981470755542\n",
            "decrypt c:1694448049032291244949\n"
          ]
        }
      ],
      "source": [
        "# Let's try with those values:\n",
        "\n",
        "p, q = 87178291199, 22815088913\n",
        "n = p*q\n",
        "t = (p-1)*(q-1)\n",
        "e, d = 65537, 7\n",
        "m = 15 # the message to encrypt\n",
        "#c = pow(m, e, n) # encrypted message is m^e (mod n)\n",
        "c = 1927890433981470755542 # encrypted message is m^e (mod n)\n",
        "\n",
        "m_again = pow(c, d, n) # decrypted message is c^d (mod n)\n",
        "\n",
        "print(f'p:{p}, q:{q}\\nn:{n}\\nt:{t}\\ne:{e}\\nd:{d}')\n",
        "print(f'm:{m}\\nc:{c}\\ndecrypt c:{m_again}')"
      ]
    },
    {
      "cell_type": "code",
      "execution_count": null,
      "metadata": {
        "id": "AXKox9nEEUgG"
      },
      "outputs": [],
      "source": [
        "# With a different p and q\n",
        "p, q = 5, 7\n",
        "n = p*q\n",
        "t = (p-1)*(q-1)\n",
        "e, d = 5, 5\n",
        "m = 16\n",
        "c = pow(m, e, n)\n",
        "m_again = pow(c, d, n)\n",
        "\n",
        "print(f'p:{p}, q:{q}\\nn:{n}\\nt:{t}\\ne:{e}\\nd:{d}')\n",
        "print(f'm:{m}\\nc:{c}\\ndecrypt c:{m_again}')"
      ]
    },
    {
      "cell_type": "markdown",
      "metadata": {
        "id": "VmG3vfVNKOMi"
      },
      "source": [
        "### Using slightly larger values for p and q\n",
        "$p=61$ and $q=53$"
      ]
    },
    {
      "cell_type": "code",
      "execution_count": null,
      "metadata": {
        "id": "bVsSHc_hE4lw",
        "colab": {
          "base_uri": "https://localhost:8080/"
        },
        "outputId": "7c040ae1-6e9b-4dec-e1a5-ab6d1c2481fb"
      },
      "outputs": [
        {
          "output_type": "stream",
          "name": "stdout",
          "text": [
            "n: 3233\n",
            "t: 3120\n",
            "d: 2753\n",
            "m:  1234\n",
            "c:  2183\n",
            "m_again: 1234\n"
          ]
        }
      ],
      "source": [
        "from math import gcd\n",
        "\n",
        "def findInverse(x, n):\n",
        "  '''Brute force approach to finding the inverse of x mod n.\n",
        "  '''\n",
        "  if gcd(x,n) != 1: # x and n must be relatively prime\n",
        "    raise ValueError('x and n must be coprime')\n",
        "\n",
        "  for s in range(n):\n",
        "    if (x * s) % n == 1: # find the inverse of x mod n\n",
        "      return s\n",
        "\n",
        "\n",
        "p, q = 61, 53\n",
        "n = p*q\n",
        "print('n:',n)\n",
        "\n",
        "t = (p-1)*(q-1) # Compute the totient\n",
        "print('t:', t)\n",
        "\n",
        "e = 17 # must be coprime to t\n",
        "\n",
        "d = findInverse(e, t) # use a function to find the inverse of e mod t\n",
        "print('d:', d)\n",
        "\n",
        "pub_key = (n, e)  # (3233, 17)\n",
        "private_key = (n, d) # (3233, 2753)\n",
        "\n",
        "m = 1234 # this is the message to be encrypted\n",
        "print('m: ', m)\n",
        "\n",
        "c = pow(m,e,n)  # encrypt using pow function to compute m^e mod n\n",
        "print('c: ',c)\n",
        "\n",
        "m_again = pow(c,d,n) # decrypt using pow function to compute c^d mod n\n",
        "print('m_again:', m_again)\n"
      ]
    },
    {
      "cell_type": "markdown",
      "metadata": {
        "id": "7EF_xz3wn9lg"
      },
      "source": [
        "#### Using RSA to encrypt a word"
      ]
    },
    {
      "cell_type": "code",
      "execution_count": null,
      "metadata": {
        "id": "2a3OcSJDkkDk",
        "colab": {
          "base_uri": "https://localhost:8080/"
        },
        "outputId": "84ebe0b1-2ded-4d34-fa92-b245ca958e3a"
      },
      "outputs": [
        {
          "output_type": "stream",
          "name": "stdout",
          "text": [
            "[72, 69, 76, 76, 79, 32, 67, 76, 65, 83, 83]\n"
          ]
        }
      ],
      "source": [
        "# Encrypt the following message\n",
        "message = \"HELLO CLASS\"\n",
        "# message = \"This is a fun message WITH A BUNCH of 23094832_()(#)(&*@\"\n",
        "\n",
        "# Convert letters to digits\n",
        "message = [ord(letter) for letter in message]\n",
        "print(message)"
      ]
    },
    {
      "cell_type": "code",
      "execution_count": null,
      "metadata": {
        "id": "ddZEJNw1n1F2",
        "colab": {
          "base_uri": "https://localhost:8080/"
        },
        "outputId": "13236c1d-2b8c-4ab3-c63d-f3f5ab939611"
      },
      "outputs": [
        {
          "output_type": "stream",
          "name": "stdout",
          "text": [
            "[3000, 28, 2726, 2726, 1307, 1992, 641, 2726, 2790, 2680, 2680]\n"
          ]
        }
      ],
      "source": [
        "# Now use RSA to encrypt the message\n",
        "cipher = [pow(m, e, n) for m in message]\n",
        "\n",
        "print(cipher)"
      ]
    },
    {
      "cell_type": "code",
      "execution_count": null,
      "metadata": {
        "id": "AtUY5nvan2oA",
        "colab": {
          "base_uri": "https://localhost:8080/"
        },
        "outputId": "dabece53-61b7-4659-d3ad-87b84326fefb"
      },
      "outputs": [
        {
          "output_type": "stream",
          "name": "stdout",
          "text": [
            "[72, 69, 76, 76, 79, 32, 67, 76, 65, 83, 83]\n"
          ]
        }
      ],
      "source": [
        "# Decrypt using RSA\n",
        "plain = [pow(c, d, n) for c in cipher]\n",
        "print(plain)"
      ]
    },
    {
      "cell_type": "code",
      "execution_count": null,
      "metadata": {
        "id": "QGXoAL20n3-D",
        "colab": {
          "base_uri": "https://localhost:8080/"
        },
        "outputId": "a3297a9d-8c0f-48f6-8796-179e5bbfd99f"
      },
      "outputs": [
        {
          "output_type": "stream",
          "name": "stdout",
          "text": [
            "HELLO CLASS\n"
          ]
        }
      ],
      "source": [
        "# Convert digits back to letters\n",
        "message_again = ''.join([chr(digit) for digit in plain])\n",
        "print(message_again)"
      ]
    }
  ],
  "metadata": {
    "colab": {
      "provenance": [],
      "include_colab_link": true
    },
    "interpreter": {
      "hash": "1977c1262a5a71e57f8e1e2a9337f4268800bf2d1a595fc1ecb322ccb8b2351d"
    },
    "kernelspec": {
      "display_name": "Python 3.9.0 ('.env': venv)",
      "language": "python",
      "name": "python3"
    },
    "language_info": {
      "codemirror_mode": {
        "name": "ipython",
        "version": 3
      },
      "file_extension": ".py",
      "mimetype": "text/x-python",
      "name": "python",
      "nbconvert_exporter": "python",
      "pygments_lexer": "ipython3",
      "version": "3.9.0"
    }
  },
  "nbformat": 4,
  "nbformat_minor": 0
}