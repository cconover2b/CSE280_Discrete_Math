{
  "cells": [
    {
      "cell_type": "markdown",
      "metadata": {
        "id": "_Mr3AvSgSswx"
      },
      "source": [
        "# Homework 12 - More Counting"
      ]
    },
    {
      "cell_type": "markdown",
      "metadata": {
        "id": "w1t0weuGbbhA"
      },
      "source": [
        "**Instructions:** Complete the exercises below.\n",
        "\n",
        "1. Make a copy of this Colab Notebook using **`File -> Save a copy in Drive`**.\n",
        "\n",
        "2. Answer the exercise questions below. Type your answers to each question by double-clicking on **`Your Answer`** and typing your response.\n",
        "\n",
        "    Note that you can use any combination of plain text, Markdown, or LaTeX. As a last resort, you can simply take a picture of your handwritten work and upload it to an answer cell below.\n",
        "\n",
        "3. To submit your work, turn in the URL for your Colab notebook."
      ]
    },
    {
      "cell_type": "markdown",
      "metadata": {
        "id": "bEsUKV6DbbhB"
      },
      "source": [
        "**Note**:\n",
        "Sample solutions are provided in order to help you **learn**. The purpose of these exercises is not to simply turn in the answers, but to take the time and effort to learn and understand the material. You are encouraged to work the problems first, then when you are satisfied that you have the correct answer, look at the sample solution and compare it with yours."
      ]
    },
    {
      "cell_type": "markdown",
      "metadata": {
        "id": "VMdUGagAoOrB"
      },
      "source": [
        "As you complete the problems below, you may use Python whenever you can think of a way it could help you answer the question."
      ]
    },
    {
      "cell_type": "markdown",
      "metadata": {
        "id": "zRSWtA5skP6O"
      },
      "source": [
        "### Exercise 12.1\n"
      ]
    },
    {
      "cell_type": "markdown",
      "metadata": {
        "id": "pDRAcd2pkQ0y"
      },
      "source": [
        "Order the following tuples in lexicographic order.\n",
        "\n",
        "(5, 3, 2, 4) \\\n",
        "(3, 1, 5, 4) \\\n",
        "(4, 1, 3, 2) \\\n",
        "(2, 4, 6, 1) \\\n",
        "(1, 2, 3, 4)"
      ]
    },
    {
      "cell_type": "markdown",
      "metadata": {
        "id": "y8YWfwNZoOrC"
      },
      "source": [
        "#### Your Answer:"
      ]
    },
    {
      "cell_type": "markdown",
      "metadata": {
        "id": "dK2tIQ19lXlQ"
      },
      "source": [
        "### Exercise 12.2"
      ]
    },
    {
      "cell_type": "markdown",
      "metadata": {
        "id": "jLxMQs-ylYYv"
      },
      "source": [
        "For each permutation of {2, 5, 7, 9, 11, 13, 15}, give the next largest permutation *or* indicate that the permutation is the last one in lexicographic order.\n",
        "\n",
        "1. (2, 5, 7, 9, 11, 13, 15)\n",
        "\n",
        "2. (15, 13, 11, 9, 7, 5, 2)\n",
        "\n",
        "3. (7, 11, 15, 5, 2, 9, 13)\n",
        "\n",
        "4. (9, 13, 11, 15, 7, 5, 2)\n",
        "\n",
        "5. (11, 5, 13, 2, 15, 9, 7)\n"
      ]
    },
    {
      "cell_type": "markdown",
      "metadata": {
        "id": "IcMVGYnkoOrD"
      },
      "source": [
        "#### Your Answer:"
      ]
    },
    {
      "cell_type": "markdown",
      "metadata": {
        "id": "dcJgdo8_mmjT"
      },
      "source": [
        "### Exercise 12.3\n"
      ]
    },
    {
      "cell_type": "markdown",
      "metadata": {
        "id": "gW7tkpUsoOrE"
      },
      "source": [
        "Complete the function below (based on Example 11.1.2 in the reading) that generates the next largest permutation given a list of numbers. Run the code cell and verify it generates the correct lexicographical sequence for the numbers [1,2,3,4,5,6,7].\n",
        "\n",
        "Alternatively, you may write your own `next_permutation` function instead of filling in the blanks in this provided function."
      ]
    },
    {
      "cell_type": "code",
      "execution_count": null,
      "metadata": {
        "id": "0U3Ybwb-rtPz"
      },
      "outputs": [],
      "source": [
        "def next_permutation(nums):\n",
        "    # Find the largest index k where nums[k] <= nums[k+1]\n",
        "    k = len(nums) - 2\n",
        "    while k >= 0 and nums[k] >= nums[k+1]:\n",
        "        k -= 1\n",
        "\n",
        "    # If no such index is found, nums is the last permutation\n",
        "    if k == -1:\n",
        "        return None\n",
        "\n",
        "    # Find the index j of the smallest element such that j > k and nums[j] > nums[k]\n",
        "    # YOUR CODE HERE\n",
        "\n",
        "\n",
        "    # Swap the two numbers nums[k] and nums[j]\n",
        "    # YOUR CODE HERE\n",
        "\n",
        "    # Reverse the order of the items nums[k+1] through nums[n]\n",
        "    # YOUR CODE HERE\n",
        "\n",
        "    return nums\n",
        "\n",
        "# Generate all permutations and print the next largest permutation for each\n",
        "nums = [1, 2, 3, 4, 5, 6, 7]\n",
        "permutation = nums[:]  # create a copy of nums. Same as nums.copy()\n",
        "\n",
        "# loop through all the possible permutations of nums\n",
        "while permutation is not None:\n",
        "    print(permutation)\n",
        "    permutation = next_permutation(permutation)"
      ]
    },
    {
      "cell_type": "markdown",
      "metadata": {
        "id": "x28SVeACoOrE"
      },
      "source": [
        "#### Your Answer:"
      ]
    },
    {
      "cell_type": "markdown",
      "metadata": {
        "id": "TWaa5Dzh6-kG"
      },
      "source": [
        "### Exercise 12.4"
      ]
    },
    {
      "cell_type": "markdown",
      "metadata": {
        "id": "Zqoa0MVO6-kG"
      },
      "source": [
        "Use your `next_permutation()` function to verify your answers for Exercise 12.2 by computing the next permutation for each of the following sequences:\n",
        "\n",
        "1. (2, 5, 7, 9, 11, 13, 15)\n",
        "\n",
        "2. (15, 13, 11, 9, 7, 5, 2)\n",
        "\n",
        "3. (7, 11, 15, 5, 2, 9, 13)\n",
        "\n",
        "4. (9, 13, 11, 15, 7, 5, 2)\n",
        "\n",
        "5. (11, 5, 13, 2, 15, 9, 7)\n"
      ]
    },
    {
      "cell_type": "markdown",
      "metadata": {
        "id": "cJ-sY6O_6-kG"
      },
      "source": [
        "#### Your Answer:"
      ]
    },
    {
      "cell_type": "markdown",
      "metadata": {
        "id": "R0cKyenkoOrE"
      },
      "source": [
        "### Exercise 12.5\n"
      ]
    },
    {
      "cell_type": "markdown",
      "metadata": {
        "id": "CFNfXER1mnyw"
      },
      "source": [
        "Using the Binomial Theorem, determine the coefficient of the following binomials. Show your work on a separate piece of paper if necessary.\n",
        "\n",
        "1. $x^2y^5$ in $(2x - 3y)^7$\n",
        "\n",
        "2. $x^4y^2$ in $(-5x + 6y)^6$\n",
        "\n",
        "3. $x^3y^6$ in $(7x - 2y)^9$"
      ]
    },
    {
      "cell_type": "markdown",
      "metadata": {
        "id": "oQ-kW_P5oOrF"
      },
      "source": [
        "#### Your Answer:"
      ]
    },
    {
      "cell_type": "markdown",
      "metadata": {
        "id": "GQGX954z6-kG"
      },
      "source": [
        "### Exercise 12.6"
      ]
    },
    {
      "cell_type": "markdown",
      "metadata": {
        "id": "ZHVNDuki6-kG"
      },
      "source": [
        "Write a Python function that uses the Binomial Theorem to find the coefficient of a binomial.\n",
        "\n",
        "For example, the coefficient of $x^3 y^4$  in $(-3x + 4y)^7$ is $-241920$.\n",
        "\n",
        "You may use the `comb()` function from the `math` module to calculate r-combinations (i.e., $n \\choose k$)\n",
        "\n",
        "Your function should take the x exponent, y exponent, x coefficient, and y coefficient, then return the binomial coefficient.\n",
        "\n",
        "For example, to calculate the coefficient of $x^3 y^4$  in $(-3x + 4y)^7$, your function would be called like this:\n",
        "\n",
        "    binomial_coefficient(3,4,-3,4)"
      ]
    },
    {
      "cell_type": "code",
      "execution_count": null,
      "metadata": {
        "id": "qwdG2fXP6-kG"
      },
      "outputs": [],
      "source": [
        "from math import comb # r-combination\n",
        "\n",
        "# Return the coefficient using the binomial theorem\n",
        "def binomial_coefficient(exp_x, exp_y, coef_x, coef_y):\n",
        "\n",
        "    result = # YOUR CODE HERE\n",
        "    return result\n",
        "\n",
        "binomial_coefficient(3,4,-3,4)  # should return -241920\n"
      ]
    },
    {
      "cell_type": "markdown",
      "metadata": {
        "id": "KU43niMQ6-kG"
      },
      "source": [
        "#### Your Answer:"
      ]
    },
    {
      "cell_type": "markdown",
      "metadata": {
        "id": "TuSr54_NnJch"
      },
      "source": [
        "### Exercise 12.7\n"
      ]
    },
    {
      "cell_type": "markdown",
      "metadata": {
        "id": "Qr1V57rPnLon"
      },
      "source": [
        "Using the pigeonhole principle, answer the following problems:\n"
      ]
    },
    {
      "cell_type": "markdown",
      "metadata": {
        "id": "2M6A4qxnnM7w"
      },
      "source": [
        "1. In a box of 100 red balls and 100 blue balls, how many balls have to be picked to be sure that at least 30 balls are of the same color?\n",
        "\n",
        "2. In a drawer, there are 10 red socks and 10 blue socks. How many socks must be picked to be sure that at least 6 socks are of the same color?\n",
        "\n",
        "3. In a bag, there are 5 black marbles, 6 white marbles, and 7 gray marbles. How many marbles must be picked to be sure that at least 4 marbles are of the same color?\n",
        "\n",
        "4. In a book, the English language is used, which consists of 26 different letters. How many consecutive sentences have to be selected in the book to have at least 4 sentences that start with the same letter?\n"
      ]
    },
    {
      "cell_type": "markdown",
      "metadata": {
        "id": "ErtAI7RCoOrG"
      },
      "source": [
        "#### Your Answer:"
      ]
    },
    {
      "cell_type": "markdown",
      "metadata": {
        "id": "zRnpNNCdpfH1"
      },
      "source": [
        "### Exercise 12.8\n"
      ]
    },
    {
      "cell_type": "markdown",
      "metadata": {
        "id": "M9rhCPujpgn1"
      },
      "source": [
        "You have a basket of apples with a total of 'n' apples. You need to distribute these apples among 'k' children. However, the pigeonhole principle states that if you have more pigeons than pigeonholes, then at least one pigeonhole must contain more than one pigeon.\n",
        "\n",
        "Write a Python function called distribute_apples(n, k) that takes in two parameters:\n",
        "\n",
        "'n' (an integer) representing the total number of apples in the basket.\n",
        "'k' (an integer) representing the number of children.\n",
        "The function should return a list of 'k' integers, representing the number of apples each child receives. The distribution should be such that no child receives more than one apple more than any other child.\n",
        "\n",
        "You need to implement the function using the pigeonhole principle to ensure a fair distribution of apples."
      ]
    },
    {
      "cell_type": "code",
      "execution_count": null,
      "metadata": {
        "colab": {
          "base_uri": "https://localhost:8080/"
        },
        "id": "VJ7St8cFMbw5",
        "outputId": "5b3c207c-4560-4949-d62f-69a5f8122480"
      },
      "outputs": [
        {
          "name": "stdout",
          "output_type": "stream",
          "text": [
            "[3, 2, 2, 2]\n"
          ]
        }
      ],
      "source": [
        "from math import ceil\n",
        "def distribute_apples(n, k):\n",
        "    # YOUR CODE HERE\n",
        "    pass\n",
        "\n",
        "print(distribute_apples(9,4))"
      ]
    },
    {
      "cell_type": "markdown",
      "metadata": {
        "id": "yIV5RG61oOrG"
      },
      "source": [
        "#### Your Answer:"
      ]
    },
    {
      "cell_type": "markdown",
      "metadata": {
        "id": "HCjgnJwTbbhN"
      },
      "source": [
        "----------------------\n",
        "## Sample Solutions\n",
        "\n",
        "**Note**:\n",
        "Sample solutions are provided in order to help you **learn**. The purpose of these exercises is not to simply turn in the answers, but to take the time and effort to learn and understand the material. You are encouraged to work the problems first, then when you are satisfied that you have the correct answer, look at the sample solution and compare it with yours."
      ]
    },
    {
      "cell_type": "markdown",
      "metadata": {
        "id": "r35jAV5EoOrT"
      },
      "source": [
        "### Sample Solution 12.1"
      ]
    },
    {
      "cell_type": "markdown",
      "metadata": {
        "id": "Z3x6cLMjoOrT"
      },
      "source": [
        "(1, 2, 3, 4) < (2, 4, 6, 1) < (3, 1, 5, 4) < (4, 1, 3, 2) < (5, 3, 2, 4)\n",
        "\n",
        "Explanation:\n",
        "\n",
        "(1, 2, 3, 4) < (2, 4, 6, 1) because 1 < 2.\n",
        "\n",
        "(2, 4, 6, 1) < (3, 1, 5, 4) because 2 < 3.\n",
        "\n",
        "(3, 1, 5, 4) < (4, 1, 3, 2) because 3 < 4.\n",
        "\n",
        "(4, 1, 3, 2) < (5, 3, 2, 4) because 4 < 5."
      ]
    },
    {
      "cell_type": "markdown",
      "metadata": {
        "id": "TG9uhWfOoOrU"
      },
      "source": [
        "### Sample Solution 12.2"
      ]
    },
    {
      "cell_type": "markdown",
      "metadata": {
        "id": "QGV2MeqeoOrU"
      },
      "source": [
        "1. (2, 5, 7, 9, 11, 15, 13)\n",
        "\n",
        "2. This is the last permutation, so there is no next permutation.\n",
        "\n",
        "3. (7, 11, 15, 5, 2, 13, 9)\n",
        "\n",
        "4. (9, 13, 15, 2, 5, 7, 11)\n",
        "\n",
        "5. (11, 5, 13, 7, 2, 9, 15)"
      ]
    },
    {
      "cell_type": "markdown",
      "metadata": {
        "id": "FLmmoeByoOrV"
      },
      "source": [
        "### Sample Solution 12.3"
      ]
    },
    {
      "cell_type": "code",
      "execution_count": null,
      "metadata": {
        "id": "M84BbFDs6-kH"
      },
      "outputs": [],
      "source": [
        "def next_permutation(nums):\n",
        "    # Find the largest index k where nums[k] <= nums[k+1]\n",
        "    k = len(nums) - 2\n",
        "    while k >= 0 and nums[k] >= nums[k+1]:\n",
        "        k -= 1\n",
        "\n",
        "    # If no such index is found, nums is the last permutation\n",
        "    if k == -1:\n",
        "        return None\n",
        "\n",
        "    # Find the index j of the smallest element such that j > k and nums[j] > nums[k]\n",
        "    j = len(nums) - 1\n",
        "    while nums[k] > nums[j]:\n",
        "        j -= 1\n",
        "\n",
        "    # Swap the two numbers nums[k] and nums[j]\n",
        "    nums[k], nums[j] = nums[j], nums[k]\n",
        "\n",
        "    # Reverse the order of the items nums[k+1] through nums[n]\n",
        "    nums[k+1:] = reversed(nums[k+1:])\n",
        "\n",
        "    return nums\n",
        "\n",
        "# Generate all permutations and print the next largest permutation for each\n",
        "nums = [1, 2, 3, 4, 5, 6, 7]\n",
        "permutation = nums[:] # make a copy of the list\n",
        "while permutation is not None:\n",
        "    print(permutation)\n",
        "    permutation = next_permutation(permutation)"
      ]
    },
    {
      "cell_type": "markdown",
      "metadata": {
        "id": "qM_UQy0C6-kK"
      },
      "source": [
        "Alternate solution:"
      ]
    },
    {
      "cell_type": "code",
      "execution_count": null,
      "metadata": {
        "id": "zc_1DQ0b6-kK"
      },
      "outputs": [],
      "source": [
        "def next_permutation(nums):\n",
        "    # Find the largest index k where nums[k] <= nums[k+1]\n",
        "    k = len(nums) - 2\n",
        "    while k >= 0 and nums[k] >= nums[k+1]:\n",
        "        k -= 1\n",
        "\n",
        "    # If no such index is found, nums is already the last permutation\n",
        "    if k == -1:\n",
        "        return None\n",
        "\n",
        "    # Find the index j of the smallest element such that j > k and nums[j] > nums[k]\n",
        "    i = k + 1\n",
        "    smallest = nums[i]\n",
        "    j = i\n",
        "    while i < len(nums):\n",
        "      if nums[i] < smallest and nums[i] > nums[k]:\n",
        "        smallest = nums[i]\n",
        "        j = i\n",
        "      i += 1\n",
        "\n",
        "    # Swap the two numbers nums[k] and nums[j]\n",
        "    nums[k], nums[j] = nums[j], nums[k]\n",
        "\n",
        "    # Reverse the order of the items nums[k+1] through nums[n]\n",
        "    nums = nums[0:k+1] + sorted(nums[k+1:])\n",
        "\n",
        "    return nums\n",
        "\n",
        "# Generate all permutations and print the next largest permutation for each\n",
        "nums = [1, 2, 3, 4, 5, 6, 7]\n",
        "permutation = nums.copy()\n",
        "while permutation is not None:\n",
        "    print(permutation)\n",
        "    permutation = next_permutation(permutation)"
      ]
    },
    {
      "cell_type": "markdown",
      "metadata": {
        "id": "vYAAlTDf6-kK"
      },
      "source": [
        "### Sample Solution 12.4"
      ]
    },
    {
      "cell_type": "code",
      "execution_count": null,
      "metadata": {
        "id": "LU4HiMkx6-kK",
        "outputId": "38ec71f6-63a5-4a9a-dbb8-1a91abbac065"
      },
      "outputs": [
        {
          "name": "stdout",
          "output_type": "stream",
          "text": [
            "1. [2, 5, 7, 9, 11, 15, 13]\n",
            "2. None\n",
            "3. [7, 11, 15, 5, 2, 13, 9]\n",
            "4. [9, 13, 15, 2, 5, 7, 11]\n",
            "5. [11, 5, 13, 7, 2, 9, 15]\n"
          ]
        }
      ],
      "source": [
        "print(f'1. {next_permutation([2, 5, 7, 9, 11, 13, 15])}')\n",
        "print(f'2. {next_permutation([15, 13, 11, 9, 7, 5, 2])}')\n",
        "print(f'3. {next_permutation([7, 11, 15, 5, 2, 9, 13])}')\n",
        "print(f'4. {next_permutation([9, 13, 11, 15, 7, 5, 2])}')\n",
        "print(f'5. {next_permutation([11, 5, 13, 2, 15, 9, 7])}')\n"
      ]
    },
    {
      "cell_type": "markdown",
      "metadata": {
        "id": "bqHX1s5voOrW"
      },
      "source": [
        "### Sample Solution 12.5"
      ]
    },
    {
      "cell_type": "markdown",
      "metadata": {
        "id": "ElsPn55f6-kK"
      },
      "source": [
        "1. ${7 \\choose 2} \\cdot 2^2 \\cdot -3^5  = -20412$\n",
        "\n",
        "2. ${6 \\choose 4} \\cdot -5^4 \\cdot 6^2 = 337500$\n",
        "\n",
        "3. ${9 \\choose 3} \\cdot 7^3 \\cdot -2^6 = 1843968$"
      ]
    },
    {
      "cell_type": "code",
      "execution_count": null,
      "metadata": {
        "id": "lXHNJiNE6-kK",
        "outputId": "fda9a377-a038-4d82-e9c1-37e5a80d3109"
      },
      "outputs": [
        {
          "name": "stdout",
          "output_type": "stream",
          "text": [
            "1. -20412\n",
            "2. 337500\n",
            "3. 1843968\n"
          ]
        }
      ],
      "source": [
        "from math import comb\n",
        "print(f'1. {21 * 2**2 * (-3)**5}')\n",
        "print(f'2. {comb(6,4) * (-5)**4 * 6**2}')\n",
        "print(f'3. {comb(9,3) * 7**3 * (-2)**6}')\n"
      ]
    },
    {
      "cell_type": "markdown",
      "metadata": {
        "id": "qux7SNiSoOrW"
      },
      "source": [
        "### Sample Solution 12.6"
      ]
    },
    {
      "cell_type": "code",
      "execution_count": null,
      "metadata": {
        "id": "G2kq73rD6-kK",
        "outputId": "5c3fa22f-2bf1-4ad8-e12d-4464a9f56167"
      },
      "outputs": [
        {
          "data": {
            "text/plain": [
              "-241920"
            ]
          },
          "metadata": {},
          "output_type": "display_data"
        }
      ],
      "source": [
        "from math import comb # r-combination\n",
        "\n",
        "# Return the coefficient using the binomial theorem\n",
        "def binomial_coefficient(exp_x, exp_y, coef_x, coef_y):\n",
        "    n = exp_x + exp_y\n",
        "    k = exp_x\n",
        "    result = comb(n, k) * coef_x**exp_x * coef_y**exp_y\n",
        "    return result\n",
        "\n",
        "binomial_coefficient(3,4,-3,4)"
      ]
    },
    {
      "cell_type": "markdown",
      "metadata": {
        "id": "_3DY0Q6RoOrX"
      },
      "source": [
        "### Sample Solution 12.7"
      ]
    },
    {
      "cell_type": "markdown",
      "metadata": {
        "id": "5JAkgPd26-kK"
      },
      "source": [
        "To answer these questions, we use the formula in Theorem 11.3.3, which says $n = k(b-1)+1$, where $k$ is the number of elements in the target or codomain, $b$ is the minimum number of items we want to guarantee, and $n$ is the number of elements that must be in the domain in order to guarantee $b$.\n",
        "\n",
        "1. In the worst case, we could pick 29 red balls and 29 blue balls, which would be 58. One more pick and we would necessarily have at least 30 of either red or blue, so the minimum number of picks would be 59.\n",
        "\n",
        "    By Theorem 11.3.3, $n$ must be at least $k(b-1)+1$. We are mapping from ball picks to colors. The size of the codomain is the number of colors, which is $k=2$. How many balls must be picked to ensure there are at least 30 balls of the same color? We have a function mapping from some number $n$ elements to a set with $k=2$ elements, red and blue. We want to guarantee that there is an element $y$ in the codomain \\{red,blue\\} to which the function maps at least $b=30$ elements from the domain.\n",
        "\n",
        "    So, $n=k(b-1)+1 = 2*(30-1)+1 = 59$.\n",
        "\n",
        "2. Map sock picks to colors. The size of the codomain is the number of colors, which is $k=2$. The goal for the number of picks required to guarantee at least 6 socks of the same color is $2*(6-1)+1 = 11$\n",
        "\n",
        "3. Map marbles to colors. There are $k=3$ colors in the codomain and we want at least $b=4$ marbles of the same color.\n",
        "\n",
        "    $3*(4-1)+1 = 10$\n",
        "\n",
        "4. Map sentences to letters. There are $k=26$ letters, and we want at least $b=4$ sentences that start with the same letter.\n",
        "    \n",
        "    $26*(4-1)+1 = 79$\n"
      ]
    },
    {
      "cell_type": "markdown",
      "metadata": {
        "id": "Dv967p8NoOrY"
      },
      "source": [
        "### Sample Solution 12.8"
      ]
    },
    {
      "cell_type": "code",
      "execution_count": null,
      "metadata": {
        "id": "86QTrGHH6-kL",
        "outputId": "5618fa24-5b80-45f2-bab3-0ec56245756e"
      },
      "outputs": [
        {
          "name": "stdout",
          "output_type": "stream",
          "text": [
            "[3, 2, 2, 2]\n"
          ]
        }
      ],
      "source": [
        "from math import ceil\n",
        "def distribute_apples(n, k):\n",
        "    result = []\n",
        "    while k > 0:\n",
        "        result.append(ceil(n/k))\n",
        "        n = n - ceil(n/k)\n",
        "        k = k - 1\n",
        "    return result\n",
        "\n",
        "print(distribute_apples(9,4))"
      ]
    },
    {
      "cell_type": "code",
      "execution_count": null,
      "metadata": {
        "id": "FFo5VAat6-kL",
        "outputId": "9337fca4-6be4-4dfa-f53a-b73ec31591f6"
      },
      "outputs": [
        {
          "name": "stdout",
          "output_type": "stream",
          "text": [
            "[3, 2, 2, 2]\n"
          ]
        }
      ],
      "source": [
        "# Alternative solution by Brycen Taylor, Spring 2023\n",
        "def distribute_apples(n, k):\n",
        "  distributeList = [n//k]*k\n",
        "  i = 0\n",
        "  while i < n%k:\n",
        "    distributeList[i] += 1\n",
        "    i += 1\n",
        "\n",
        "  return distributeList\n",
        "\n",
        "print(distribute_apples(9, 4))"
      ]
    },
    {
      "cell_type": "code",
      "execution_count": null,
      "metadata": {
        "id": "b4KJFH3Y6-kL",
        "outputId": "b01475b8-55d1-4b4d-f0b2-05cb7e2b469d"
      },
      "outputs": [
        {
          "name": "stdout",
          "output_type": "stream",
          "text": [
            "[3, 2, 2, 2]\n"
          ]
        }
      ],
      "source": [
        "# Alternative solution by Michael Hendrick, Spring 2023\n",
        "from math import ceil\n",
        "def distribute_apples(n, k):\n",
        "    min = n // k\n",
        "    rem = n % k\n",
        "    return [min + (1 if i < rem else 0) for i in range(k)]\n",
        "\n",
        "print(distribute_apples(9,4))\n"
      ]
    }
  ],
  "metadata": {
    "colab": {
      "collapsed_sections": [
        "HCjgnJwTbbhN"
      ],
      "provenance": [],
      "toc_visible": true
    },
    "interpreter": {
      "hash": "1977c1262a5a71e57f8e1e2a9337f4268800bf2d1a595fc1ecb322ccb8b2351d"
    },
    "kernelspec": {
      "display_name": "Python 3.9.0 ('.env': venv)",
      "language": "python",
      "name": "python3"
    },
    "language_info": {
      "codemirror_mode": {
        "name": "ipython",
        "version": 3
      },
      "file_extension": ".py",
      "mimetype": "text/x-python",
      "name": "python",
      "nbconvert_exporter": "python",
      "pygments_lexer": "ipython3",
      "version": "3.9.0"
    }
  },
  "nbformat": 4,
  "nbformat_minor": 0
}